{
 "cells": [
  {
   "cell_type": "markdown",
   "metadata": {},
   "source": [
    "# Spin Algebra"
   ]
  },
  {
   "cell_type": "markdown",
   "metadata": {},
   "source": [
    "## 1.1 Basic commutation relations"
   ]
  },
  {
   "cell_type": "markdown",
   "metadata": {},
   "source": [
    "$[\\sigma_x,\\sigma_y]=2i\\sigma_z$"
   ]
  },
  {
   "cell_type": "code",
   "execution_count": 77,
   "metadata": {},
   "outputs": [
    {
     "data": {
      "text/latex": [
       "$\\displaystyle 2 i \\sigma_{3}$"
      ],
      "text/plain": [
       "2*I*sigma3"
      ]
     },
     "execution_count": 77,
     "metadata": {},
     "output_type": "execute_result"
    }
   ],
   "source": [
    "from sympy.physics.paulialgebra import Pauli,evaluate_pauli_product\n",
    "from sympy.physics.quantum import Dagger, Commutator\n",
    "sx=Pauli(1)\n",
    "sy=Pauli(2)\n",
    "com=Commutator(sx,sy).doit()\n",
    "com"
   ]
  },
  {
   "cell_type": "markdown",
   "metadata": {},
   "source": [
    "$[\\sigma_y,\\sigma_z]=2i\\sigma_x$"
   ]
  },
  {
   "cell_type": "code",
   "execution_count": 78,
   "metadata": {},
   "outputs": [
    {
     "data": {
      "text/latex": [
       "$\\displaystyle 2 i \\sigma_{1}$"
      ],
      "text/plain": [
       "2*I*sigma1"
      ]
     },
     "execution_count": 78,
     "metadata": {},
     "output_type": "execute_result"
    }
   ],
   "source": [
    "sz=Pauli(3)\n",
    "com=Commutator(sy,sz).doit()\n",
    "com"
   ]
  },
  {
   "cell_type": "markdown",
   "metadata": {},
   "source": [
    "$[\\sigma_z,\\sigma_x]=2i\\sigma_y$"
   ]
  },
  {
   "cell_type": "code",
   "execution_count": 79,
   "metadata": {
    "scrolled": true
   },
   "outputs": [
    {
     "data": {
      "text/latex": [
       "$\\displaystyle 2 i \\sigma_{2}$"
      ],
      "text/plain": [
       "2*I*sigma2"
      ]
     },
     "execution_count": 79,
     "metadata": {},
     "output_type": "execute_result"
    }
   ],
   "source": [
    "com=Commutator(sz,sx).doit()\n",
    "com"
   ]
  },
  {
   "cell_type": "markdown",
   "metadata": {},
   "source": [
    "$[\\sigma,\\sigma^\\dagger]=-\\sigma_z$"
   ]
  },
  {
   "cell_type": "code",
   "execution_count": 20,
   "metadata": {},
   "outputs": [
    {
     "data": {
      "text/latex": [
       "$\\displaystyle - \\sigma_{3}$"
      ],
      "text/plain": [
       "-sigma3"
      ]
     },
     "execution_count": 20,
     "metadata": {},
     "output_type": "execute_result"
    }
   ],
   "source": [
    "s,sd=symbols('s sd')\n",
    "s=(Pauli(1)-I*Pauli(2))/2\n",
    "sd=(Pauli(1)+I*Pauli(2))/2\n",
    "com=Commutator(s,sd).doit()\n",
    "evaluate_pauli_product(expand(com))"
   ]
  },
  {
   "cell_type": "markdown",
   "metadata": {},
   "source": [
    "$\\sigma \\sigma^\\dagger$"
   ]
  },
  {
   "cell_type": "code",
   "execution_count": 22,
   "metadata": {},
   "outputs": [
    {
     "data": {
      "text/latex": [
       "$\\displaystyle \\frac{1}{2} - \\frac{\\sigma_{3}}{2}$"
      ],
      "text/plain": [
       "1/2 - sigma3/2"
      ]
     },
     "execution_count": 22,
     "metadata": {},
     "output_type": "execute_result"
    }
   ],
   "source": [
    "evaluate_pauli_product(expand(s*sd))"
   ]
  },
  {
   "cell_type": "markdown",
   "metadata": {},
   "source": [
    "$\\sigma^\\dagger \\sigma$"
   ]
  },
  {
   "cell_type": "code",
   "execution_count": 76,
   "metadata": {},
   "outputs": [
    {
     "data": {
      "text/latex": [
       "$\\displaystyle \\frac{1}{2} + \\frac{\\sigma_{3}}{2}$"
      ],
      "text/plain": [
       "1/2 + sigma3/2"
      ]
     },
     "execution_count": 76,
     "metadata": {},
     "output_type": "execute_result"
    }
   ],
   "source": [
    "evaluate_pauli_product(expand(sd*s))"
   ]
  },
  {
   "cell_type": "markdown",
   "metadata": {},
   "source": [
    "$\\sigma^\\dagger \\sigma=\\sigma^\\dagger \\sigma$"
   ]
  },
  {
   "cell_type": "code",
   "execution_count": 51,
   "metadata": {},
   "outputs": [
    {
     "data": {
      "text/latex": [
       "$\\displaystyle Sd S$"
      ],
      "text/plain": [
       "Sd*S"
      ]
     },
     "execution_count": 51,
     "metadata": {},
     "output_type": "execute_result"
    }
   ],
   "source": [
    "S,Sd=symbols(\"S Sd\",commutative=False)#Here, we have defined symbols for sigma by S & sigma dagger by Sd \n",
    "com=evaluate_pauli_product(expand(sd*s))\n",
    "expand(com.subs(Pauli(3),2*Sd*S-1))#and then we have susbstituted them "
   ]
  },
  {
   "cell_type": "markdown",
   "metadata": {},
   "source": [
    "$\\sigma\\sigma^\\dagger =1-\\sigma^\\dagger\\sigma$"
   ]
  },
  {
   "cell_type": "code",
   "execution_count": 44,
   "metadata": {},
   "outputs": [
    {
     "data": {
      "text/latex": [
       "$\\displaystyle 1 - Sd S$"
      ],
      "text/plain": [
       "1 - Sd*S"
      ]
     },
     "execution_count": 44,
     "metadata": {},
     "output_type": "execute_result"
    }
   ],
   "source": [
    "com=evaluate_pauli_product(expand(s*sd))\n",
    "expand(com.subs(Pauli(3),2*Sd*S-1))"
   ]
  },
  {
   "cell_type": "markdown",
   "metadata": {},
   "source": [
    "$[\\sigma,\\sigma^\\dagger]=1-2\\sigma^\\dagger\\sigma$"
   ]
  },
  {
   "cell_type": "code",
   "execution_count": 49,
   "metadata": {},
   "outputs": [
    {
     "data": {
      "text/latex": [
       "$\\displaystyle 1 - 2 Sd S$"
      ],
      "text/plain": [
       "1 - 2*Sd*S"
      ]
     },
     "execution_count": 49,
     "metadata": {},
     "output_type": "execute_result"
    }
   ],
   "source": [
    "com=Commutator(s,sd).doit()\n",
    "com1=evaluate_pauli_product(expand(com))\n",
    "expand(com1.subs(Pauli(3),2*Sd*S-1))"
   ]
  },
  {
   "cell_type": "markdown",
   "metadata": {},
   "source": [
    "$[\\sigma,\\sigma^{\\dagger 2}]=0$"
   ]
  },
  {
   "cell_type": "code",
   "execution_count": 56,
   "metadata": {},
   "outputs": [
    {
     "data": {
      "text/latex": [
       "$\\displaystyle 0$"
      ],
      "text/plain": [
       "0"
      ]
     },
     "execution_count": 56,
     "metadata": {},
     "output_type": "execute_result"
    }
   ],
   "source": [
    "com=Commutator(s,sd**2).doit()\n",
    "expand(com)"
   ]
  },
  {
   "cell_type": "markdown",
   "metadata": {},
   "source": [
    "$[\\sigma ,\\sigma^\\dagger\\sigma]= \\sigma$"
   ]
  },
  {
   "cell_type": "code",
   "execution_count": 67,
   "metadata": {},
   "outputs": [
    {
     "data": {
      "text/latex": [
       "$\\displaystyle S$"
      ],
      "text/plain": [
       "S"
      ]
     },
     "execution_count": 67,
     "metadata": {},
     "output_type": "execute_result"
    }
   ],
   "source": [
    "com=Commutator(s,sd*s).doit()\n",
    "com1=simplify(evaluate_pauli_product(expand(com)))#expand() the [A,B].doit() then evaluate_pauli_product() --simplify()\n",
    "com1.subs(s,S)"
   ]
  },
  {
   "cell_type": "markdown",
   "metadata": {},
   "source": [
    "$[\\sigma ^\\dagger ,\\sigma^\\dagger\\sigma]= -\\sigma ^\\dagger$"
   ]
  },
  {
   "cell_type": "code",
   "execution_count": 68,
   "metadata": {},
   "outputs": [
    {
     "data": {
      "text/latex": [
       "$\\displaystyle - Sd$"
      ],
      "text/plain": [
       "-Sd"
      ]
     },
     "execution_count": 68,
     "metadata": {},
     "output_type": "execute_result"
    }
   ],
   "source": [
    "com=Commutator(sd,sd*s).doit()\n",
    "com1=simplify(evaluate_pauli_product(expand(com)))#expand() the [A,B].doit() then evaluate_pauli_product() --simplify()\n",
    "com1.subs(sd,Sd)"
   ]
  },
  {
   "cell_type": "markdown",
   "metadata": {},
   "source": [
    "$[\\sigma^\\dagger,\\sigma]=-1+2\\sigma^\\dagger\\sigma$"
   ]
  },
  {
   "cell_type": "code",
   "execution_count": 69,
   "metadata": {},
   "outputs": [
    {
     "data": {
      "text/latex": [
       "$\\displaystyle -1 + 2 Sd S$"
      ],
      "text/plain": [
       "-1 + 2*Sd*S"
      ]
     },
     "execution_count": 69,
     "metadata": {},
     "output_type": "execute_result"
    }
   ],
   "source": [
    "com=Commutator(sd,s).doit()\n",
    "com1=evaluate_pauli_product(expand(com))\n",
    "expand(com1.subs(Pauli(3),2*Sd*S-1))"
   ]
  },
  {
   "cell_type": "markdown",
   "metadata": {},
   "source": [
    "$[\\sigma^\\dagger\\sigma ,\\sigma^\\dagger]=\\sigma^\\dagger$"
   ]
  },
  {
   "cell_type": "code",
   "execution_count": 73,
   "metadata": {},
   "outputs": [
    {
     "data": {
      "text/latex": [
       "$\\displaystyle Sd$"
      ],
      "text/plain": [
       "Sd"
      ]
     },
     "execution_count": 73,
     "metadata": {},
     "output_type": "execute_result"
    }
   ],
   "source": [
    "com=Commutator(sd*s,sd).doit()\n",
    "com1=simplify(evaluate_pauli_product(expand(com)))\n",
    "expand(com1.subs(sd,Sd))"
   ]
  }
 ],
 "metadata": {
  "kernelspec": {
   "display_name": "Python 3",
   "language": "python",
   "name": "python3"
  },
  "language_info": {
   "codemirror_mode": {
    "name": "ipython",
    "version": 3
   },
   "file_extension": ".py",
   "mimetype": "text/x-python",
   "name": "python",
   "nbconvert_exporter": "python",
   "pygments_lexer": "ipython3",
   "version": "3.7.4"
  }
 },
 "nbformat": 4,
 "nbformat_minor": 2
}
