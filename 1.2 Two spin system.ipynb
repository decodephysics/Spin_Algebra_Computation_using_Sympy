{
 "cells": [
  {
   "cell_type": "markdown",
   "metadata": {},
   "source": [
    "# 1.2 Two spin system"
   ]
  },
  {
   "cell_type": "markdown",
   "metadata": {},
   "source": [
    "### XYZ Hamiltonian :\n",
    "$H = J_x\\sigma_1^x\\sigma_2^x + J_y\\sigma_1^y\\sigma_2^y + J_z\\sigma_1^z\\sigma_2^z$"
   ]
  },
  {
   "cell_type": "code",
   "execution_count": 20,
   "metadata": {},
   "outputs": [
    {
     "data": {
      "text/latex": [
       "$\\displaystyle Jx {\\sigma_{1}}\\otimes {\\sigma_{1}} + Jy {\\sigma_{2}}\\otimes {\\sigma_{2}} + Jz {\\sigma_{3}}\\otimes {\\sigma_{3}}$"
      ],
      "text/plain": [
       "Jx*sigma1xsigma1 + Jy*sigma2xsigma2 + Jz*sigma3xsigma3"
      ]
     },
     "execution_count": 20,
     "metadata": {},
     "output_type": "execute_result"
    }
   ],
   "source": [
    "from sympy import symbols, expand\n",
    "from sympy.physics.paulialgebra import Pauli,evaluate_pauli_product\n",
    "from sympy.physics.quantum import Dagger, Commutator ,TensorProduct,tensor_product_simp\n",
    "H,Jx,Jy,Jz,sx1,sx2,sy1,sy2,sz1,sz2,I=symbols(\"H Jx Jy Jz sx1 sx2 sy1 sy2 sz1 sz2 I\")\n",
    "I=evaluate_pauli_product(expand(Pauli(1)*Pauli(1)))\n",
    "sx=Pauli(1)\n",
    "sy=Pauli(2)\n",
    "sz=Pauli(3)\n",
    "H=Jx*TensorProduct(sx,sx)+Jy*TensorProduct(sy,sy)+Jz*TensorProduct(sz,sz)\n",
    "H"
   ]
  },
  {
   "cell_type": "markdown",
   "metadata": {},
   "source": [
    "$ [1,H]=0 $"
   ]
  },
  {
   "cell_type": "code",
   "execution_count": 21,
   "metadata": {},
   "outputs": [
    {
     "data": {
      "text/latex": [
       "$\\displaystyle 0$"
      ],
      "text/plain": [
       "0"
      ]
     },
     "execution_count": 21,
     "metadata": {},
     "output_type": "execute_result"
    }
   ],
   "source": [
    "com=Commutator(I,H).doit()\n",
    "com"
   ]
  },
  {
   "cell_type": "markdown",
   "metadata": {},
   "source": [
    "$[\\sigma_2^x,H]=2iJ_y\\sigma_1^y\\sigma_2^z-2iJ_z\\sigma_1^z\\sigma_2^y$"
   ]
  },
  {
   "cell_type": "code",
   "execution_count": 22,
   "metadata": {
    "scrolled": true
   },
   "outputs": [
    {
     "data": {
      "text/latex": [
       "$\\displaystyle 2 i Jy {\\sigma_{2}}\\otimes {\\sigma_{3}} - 2 i Jz {\\sigma_{3}}\\otimes {\\sigma_{2}}$"
      ],
      "text/plain": [
       "2*I*Jy*sigma2xsigma3 - 2*I*Jz*sigma3xsigma2"
      ]
     },
     "execution_count": 22,
     "metadata": {},
     "output_type": "execute_result"
    }
   ],
   "source": [
    "com=Commutator(TensorProduct(I,sx),H).doit()\n",
    "com1=evaluate_pauli_product(expand(com))\n",
    "tensor_product_simp(com1)"
   ]
  },
  {
   "cell_type": "markdown",
   "metadata": {},
   "source": [
    "$[\\sigma_2^y,H]=-2iJ_x\\sigma_1^x\\sigma_2^z+2iJ_z\\sigma_1^z\\sigma_2^x$"
   ]
  },
  {
   "cell_type": "code",
   "execution_count": 23,
   "metadata": {},
   "outputs": [
    {
     "data": {
      "text/latex": [
       "$\\displaystyle - 2 i Jx {\\sigma_{1}}\\otimes {\\sigma_{3}} + 2 i Jz {\\sigma_{3}}\\otimes {\\sigma_{1}}$"
      ],
      "text/plain": [
       "-2*I*Jx*sigma1xsigma3 + 2*I*Jz*sigma3xsigma1"
      ]
     },
     "execution_count": 23,
     "metadata": {},
     "output_type": "execute_result"
    }
   ],
   "source": [
    "com=Commutator(TensorProduct(I,sy),H).doit()\n",
    "com1=evaluate_pauli_product(expand(com))\n",
    "tensor_product_simp(com1)"
   ]
  },
  {
   "cell_type": "markdown",
   "metadata": {},
   "source": [
    "$[\\sigma_2^z,H]=2iJ_x\\sigma_1^x\\sigma_2^y-2iJ_y\\sigma_1^y\\sigma_2^x$"
   ]
  },
  {
   "cell_type": "code",
   "execution_count": 24,
   "metadata": {},
   "outputs": [
    {
     "data": {
      "text/latex": [
       "$\\displaystyle 2 i Jx {\\sigma_{1}}\\otimes {\\sigma_{2}} - 2 i Jy {\\sigma_{2}}\\otimes {\\sigma_{1}}$"
      ],
      "text/plain": [
       "2*I*Jx*sigma1xsigma2 - 2*I*Jy*sigma2xsigma1"
      ]
     },
     "execution_count": 24,
     "metadata": {},
     "output_type": "execute_result"
    }
   ],
   "source": [
    "com=Commutator(TensorProduct(I,sz),H).doit()\n",
    "com1=evaluate_pauli_product(expand(com))\n",
    "tensor_product_simp(com1)"
   ]
  },
  {
   "cell_type": "markdown",
   "metadata": {},
   "source": [
    "$[\\sigma_1^x,H]=2iJ_y\\sigma_1^z\\sigma_2^y-2iJ_z\\sigma_1^y\\sigma_2^z$"
   ]
  },
  {
   "cell_type": "code",
   "execution_count": 25,
   "metadata": {},
   "outputs": [
    {
     "data": {
      "text/latex": [
       "$\\displaystyle 2 i Jy {\\sigma_{3}}\\otimes {\\sigma_{2}} - 2 i Jz {\\sigma_{2}}\\otimes {\\sigma_{3}}$"
      ],
      "text/plain": [
       "2*I*Jy*sigma3xsigma2 - 2*I*Jz*sigma2xsigma3"
      ]
     },
     "execution_count": 25,
     "metadata": {},
     "output_type": "execute_result"
    }
   ],
   "source": [
    "com=Commutator(TensorProduct(sx,I),H).doit()\n",
    "com1=evaluate_pauli_product(expand(com))\n",
    "tensor_product_simp(com1)"
   ]
  },
  {
   "cell_type": "markdown",
   "metadata": {},
   "source": [
    "$[\\sigma_1^x\\sigma_2^x,H]=0$"
   ]
  },
  {
   "cell_type": "code",
   "execution_count": 26,
   "metadata": {},
   "outputs": [
    {
     "data": {
      "text/latex": [
       "$\\displaystyle 0$"
      ],
      "text/plain": [
       "0"
      ]
     },
     "execution_count": 26,
     "metadata": {},
     "output_type": "execute_result"
    }
   ],
   "source": [
    "com=Commutator(TensorProduct(sx,sx),H).doit()\n",
    "com1=evaluate_pauli_product(expand(com))\n",
    "tensor_product_simp(com1)"
   ]
  },
  {
   "cell_type": "markdown",
   "metadata": {},
   "source": [
    "$[\\sigma_1^x\\sigma_2^y,H]=-2iJ_x\\sigma_2^z+2iJ_y\\sigma_1^z$"
   ]
  },
  {
   "cell_type": "code",
   "execution_count": 27,
   "metadata": {},
   "outputs": [
    {
     "data": {
      "text/latex": [
       "$\\displaystyle - 2 i Jx {1}\\otimes {\\sigma_{3}} + 2 i Jy {\\sigma_{3}}\\otimes {1}$"
      ],
      "text/plain": [
       "-2*I*Jx*1xsigma3 + 2*I*Jy*sigma3x1"
      ]
     },
     "execution_count": 27,
     "metadata": {},
     "output_type": "execute_result"
    }
   ],
   "source": [
    "com=Commutator(TensorProduct(sx,sy),H).doit()\n",
    "com1=evaluate_pauli_product(expand(com))\n",
    "tensor_product_simp(com1)"
   ]
  },
  {
   "cell_type": "markdown",
   "metadata": {},
   "source": [
    "$[\\sigma_1^x\\sigma_2^z,H]=2iJ_x\\sigma_2^y-2iJ_z\\sigma_1^y$"
   ]
  },
  {
   "cell_type": "code",
   "execution_count": 28,
   "metadata": {},
   "outputs": [
    {
     "data": {
      "text/latex": [
       "$\\displaystyle 2 i Jx {1}\\otimes {\\sigma_{2}} - 2 i Jz {\\sigma_{2}}\\otimes {1}$"
      ],
      "text/plain": [
       "2*I*Jx*1xsigma2 - 2*I*Jz*sigma2x1"
      ]
     },
     "execution_count": 28,
     "metadata": {},
     "output_type": "execute_result"
    }
   ],
   "source": [
    "com=Commutator(TensorProduct(sx,sz),H).doit()\n",
    "com1=evaluate_pauli_product(expand(com))\n",
    "tensor_product_simp(com1)"
   ]
  },
  {
   "cell_type": "markdown",
   "metadata": {},
   "source": [
    "$[\\sigma_1^y,H]=-2iJ_x\\sigma_1^z\\sigma_2^x+2iJ_z\\sigma_1^x\\sigma_2^z$"
   ]
  },
  {
   "cell_type": "code",
   "execution_count": 29,
   "metadata": {},
   "outputs": [
    {
     "data": {
      "text/latex": [
       "$\\displaystyle - 2 i Jx {\\sigma_{3}}\\otimes {\\sigma_{1}} + 2 i Jz {\\sigma_{1}}\\otimes {\\sigma_{3}}$"
      ],
      "text/plain": [
       "-2*I*Jx*sigma3xsigma1 + 2*I*Jz*sigma1xsigma3"
      ]
     },
     "execution_count": 29,
     "metadata": {},
     "output_type": "execute_result"
    }
   ],
   "source": [
    "com=Commutator(TensorProduct(sy,I),H).doit()\n",
    "com1=evaluate_pauli_product(expand(com))\n",
    "tensor_product_simp(com1)"
   ]
  },
  {
   "cell_type": "markdown",
   "metadata": {},
   "source": [
    "$[\\sigma_1^y\\sigma_2^x,H]=-2iJ_x\\sigma_1^z+2iJ_y\\sigma_2^z$"
   ]
  },
  {
   "cell_type": "code",
   "execution_count": 30,
   "metadata": {},
   "outputs": [
    {
     "data": {
      "text/latex": [
       "$\\displaystyle - 2 i Jx {\\sigma_{3}}\\otimes {1} + 2 i Jy {1}\\otimes {\\sigma_{3}}$"
      ],
      "text/plain": [
       "-2*I*Jx*sigma3x1 + 2*I*Jy*1xsigma3"
      ]
     },
     "execution_count": 30,
     "metadata": {},
     "output_type": "execute_result"
    }
   ],
   "source": [
    "com=Commutator(TensorProduct(sy,sx),H).doit()\n",
    "com1=evaluate_pauli_product(expand(com))\n",
    "tensor_product_simp(com1)"
   ]
  },
  {
   "cell_type": "markdown",
   "metadata": {},
   "source": [
    "$[\\sigma_1^y\\sigma_2^y,H]=0$"
   ]
  },
  {
   "cell_type": "code",
   "execution_count": 31,
   "metadata": {},
   "outputs": [
    {
     "data": {
      "text/latex": [
       "$\\displaystyle 0$"
      ],
      "text/plain": [
       "0"
      ]
     },
     "execution_count": 31,
     "metadata": {},
     "output_type": "execute_result"
    }
   ],
   "source": [
    "com=Commutator(TensorProduct(sy,sy),H).doit()\n",
    "com1=evaluate_pauli_product(expand(com))\n",
    "tensor_product_simp(com1)"
   ]
  },
  {
   "cell_type": "markdown",
   "metadata": {},
   "source": [
    "$[\\sigma_1^y\\sigma_2^z,H]=-2iJ_y\\sigma_2^x+2iJ_z\\sigma_1^x$"
   ]
  },
  {
   "cell_type": "code",
   "execution_count": 32,
   "metadata": {},
   "outputs": [
    {
     "data": {
      "text/latex": [
       "$\\displaystyle - 2 i Jy {1}\\otimes {\\sigma_{1}} + 2 i Jz {\\sigma_{1}}\\otimes {1}$"
      ],
      "text/plain": [
       "-2*I*Jy*1xsigma1 + 2*I*Jz*sigma1x1"
      ]
     },
     "execution_count": 32,
     "metadata": {},
     "output_type": "execute_result"
    }
   ],
   "source": [
    "com=Commutator(TensorProduct(sy,sz),H).doit()\n",
    "com1=evaluate_pauli_product(expand(com))\n",
    "tensor_product_simp(com1)"
   ]
  },
  {
   "cell_type": "markdown",
   "metadata": {},
   "source": [
    "$[\\sigma_1^z,H]=2iJ_x\\sigma_1^y\\sigma_2^x-2iJ_y\\sigma_1^x\\sigma_2^y$"
   ]
  },
  {
   "cell_type": "code",
   "execution_count": 33,
   "metadata": {},
   "outputs": [
    {
     "data": {
      "text/latex": [
       "$\\displaystyle 2 i Jx {\\sigma_{2}}\\otimes {\\sigma_{1}} - 2 i Jy {\\sigma_{1}}\\otimes {\\sigma_{2}}$"
      ],
      "text/plain": [
       "2*I*Jx*sigma2xsigma1 - 2*I*Jy*sigma1xsigma2"
      ]
     },
     "execution_count": 33,
     "metadata": {},
     "output_type": "execute_result"
    }
   ],
   "source": [
    "com=Commutator(TensorProduct(sz,I),H).doit()\n",
    "com1=evaluate_pauli_product(expand(com))\n",
    "tensor_product_simp(com1)"
   ]
  },
  {
   "cell_type": "markdown",
   "metadata": {},
   "source": [
    "$[\\sigma_1^z\\sigma_2^x,H]=2iJ_x\\sigma_1^y-2iJ_z\\sigma_2^y$"
   ]
  },
  {
   "cell_type": "code",
   "execution_count": 34,
   "metadata": {},
   "outputs": [
    {
     "data": {
      "text/latex": [
       "$\\displaystyle 2 i Jx {\\sigma_{2}}\\otimes {1} - 2 i Jz {1}\\otimes {\\sigma_{2}}$"
      ],
      "text/plain": [
       "2*I*Jx*sigma2x1 - 2*I*Jz*1xsigma2"
      ]
     },
     "execution_count": 34,
     "metadata": {},
     "output_type": "execute_result"
    }
   ],
   "source": [
    "com=Commutator(TensorProduct(sz,sx),H).doit()\n",
    "com1=evaluate_pauli_product(expand(com))\n",
    "tensor_product_simp(com1)"
   ]
  },
  {
   "cell_type": "markdown",
   "metadata": {},
   "source": [
    "$[\\sigma_1^z\\sigma_2^y,H]=-2iJ_y\\sigma_1^x+2iJ_z\\sigma_2^x$"
   ]
  },
  {
   "cell_type": "code",
   "execution_count": 35,
   "metadata": {},
   "outputs": [
    {
     "data": {
      "text/latex": [
       "$\\displaystyle - 2 i Jy {\\sigma_{1}}\\otimes {1} + 2 i Jz {1}\\otimes {\\sigma_{1}}$"
      ],
      "text/plain": [
       "-2*I*Jy*sigma1x1 + 2*I*Jz*1xsigma1"
      ]
     },
     "execution_count": 35,
     "metadata": {},
     "output_type": "execute_result"
    }
   ],
   "source": [
    "com=Commutator(TensorProduct(sz,sy),H).doit()\n",
    "com1=evaluate_pauli_product(expand(com))\n",
    "tensor_product_simp(com1)"
   ]
  },
  {
   "cell_type": "markdown",
   "metadata": {},
   "source": [
    "$[\\sigma_1^z\\sigma_2^z,H]=0$"
   ]
  },
  {
   "cell_type": "code",
   "execution_count": 36,
   "metadata": {},
   "outputs": [
    {
     "data": {
      "text/latex": [
       "$\\displaystyle 0$"
      ],
      "text/plain": [
       "0"
      ]
     },
     "execution_count": 36,
     "metadata": {},
     "output_type": "execute_result"
    }
   ],
   "source": [
    "com=Commutator(TensorProduct(sz,sz),H).doit()\n",
    "com1=evaluate_pauli_product(expand(com))\n",
    "tensor_product_simp(com1)"
   ]
  }
 ],
 "metadata": {
  "kernelspec": {
   "display_name": "Python 3",
   "language": "python",
   "name": "python3"
  },
  "language_info": {
   "codemirror_mode": {
    "name": "ipython",
    "version": 3
   },
   "file_extension": ".py",
   "mimetype": "text/x-python",
   "name": "python",
   "nbconvert_exporter": "python",
   "pygments_lexer": "ipython3",
   "version": "3.7.4"
  }
 },
 "nbformat": 4,
 "nbformat_minor": 2
}
