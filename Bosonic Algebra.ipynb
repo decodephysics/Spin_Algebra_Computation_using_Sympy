{
 "cells": [
  {
   "cell_type": "markdown",
   "metadata": {},
   "source": [
    "# 2 Bosonic Algebra\n",
    "## 2.1 Simple Checks"
   ]
  },
  {
   "cell_type": "markdown",
   "metadata": {},
   "source": [
    "We use the following libraries of Sympy to calculate the boson commutation relation :\n",
    "    - sympy.physics.quantum (Dagger, Commutator)\n",
    "    - sympy.physics.quantum.boson (BosonOp)\n",
    "    - sympy.physics.quantum.operatorordering (normal_ordered_form)\n",
    "Dagger helps us to take the dagger operator i.e  Dagger(b)= $ b^{\\dagger} $<br>\n",
    "BosonOp is used for creating boson destruction operation.<br>\n",
    "when all creation operators are to the left of all annihilation operators in the product. The process of putting a product into normal order is called normal ordering.<br>"
   ]
  },
  {
   "cell_type": "code",
   "execution_count": 1,
   "metadata": {},
   "outputs": [],
   "source": [
    "from sympy import *\n",
    "from sympy.physics.quantum import Dagger, Commutator\n",
    "from sympy.physics.quantum.boson import BosonOp\n",
    "\n",
    "from sympy.physics.quantum.operatorordering import normal_ordered_form\n",
    "    \n",
    "b1=BosonOp(\"b_1\") # label the two operators\n",
    "b2=BosonOp(\"b_2\")"
   ]
  },
  {
   "cell_type": "code",
   "execution_count": 2,
   "metadata": {},
   "outputs": [],
   "source": [
    "def bcom(a,b): # commutator solver function \n",
    "    comm=Commutator(a,b).doit(independent=True).expand()\n",
    "    return normal_ordered_form(comm,independent=True)"
   ]
  },
  {
   "cell_type": "markdown",
   "metadata": {},
   "source": [
    "$[b_1,b^{\\dagger}_1]=1$"
   ]
  },
  {
   "cell_type": "code",
   "execution_count": 3,
   "metadata": {},
   "outputs": [
    {
     "data": {
      "text/latex": [
       "$\\displaystyle 1$"
      ],
      "text/plain": [
       "1"
      ]
     },
     "execution_count": 3,
     "metadata": {},
     "output_type": "execute_result"
    }
   ],
   "source": [
    "bcom(b1,Dagger(b1))"
   ]
  },
  {
   "cell_type": "markdown",
   "metadata": {},
   "source": [
    "$[b_1,b^{\\dagger}_1b^{\\dagger}_1]=2b^{\\dagger}_1$"
   ]
  },
  {
   "cell_type": "code",
   "execution_count": 4,
   "metadata": {},
   "outputs": [
    {
     "data": {
      "text/latex": [
       "$\\displaystyle 2 {{b_1}^\\dagger}$"
      ],
      "text/plain": [
       "2*Dagger(b_1)"
      ]
     },
     "execution_count": 4,
     "metadata": {},
     "output_type": "execute_result"
    }
   ],
   "source": [
    "bcom(b1,Dagger(b1)*Dagger(b1))"
   ]
  },
  {
   "cell_type": "markdown",
   "metadata": {},
   "source": [
    "$[b_1,b^{\\dagger}_1b^{\\dagger}_1b^{\\dagger}_1]=3b^{\\dagger}_1$"
   ]
  },
  {
   "cell_type": "code",
   "execution_count": 15,
   "metadata": {},
   "outputs": [
    {
     "data": {
      "text/latex": [
       "$\\displaystyle 3 {{b_1}^\\dagger}^{2}$"
      ],
      "text/plain": [
       "3*Dagger(b_1)**2"
      ]
     },
     "execution_count": 15,
     "metadata": {},
     "output_type": "execute_result"
    }
   ],
   "source": [
    "bcom(b1,Dagger(b1)*Dagger(b1)*Dagger(b1))"
   ]
  },
  {
   "cell_type": "markdown",
   "metadata": {},
   "source": [
    "$[b_1,b^{\\dagger}_2]=0$"
   ]
  },
  {
   "cell_type": "code",
   "execution_count": 16,
   "metadata": {},
   "outputs": [
    {
     "data": {
      "text/latex": [
       "$\\displaystyle 0$"
      ],
      "text/plain": [
       "0"
      ]
     },
     "execution_count": 16,
     "metadata": {},
     "output_type": "execute_result"
    }
   ],
   "source": [
    "bcom(b1,Dagger(b2))"
   ]
  },
  {
   "cell_type": "markdown",
   "metadata": {},
   "source": [
    "$b_1b^{\\dagger}$"
   ]
  },
  {
   "cell_type": "code",
   "execution_count": 17,
   "metadata": {},
   "outputs": [
    {
     "data": {
      "text/latex": [
       "$\\displaystyle 1 + {{b_1}^\\dagger} {b_1}$"
      ],
      "text/plain": [
       "1 + Dagger(b_1)*b_1"
      ]
     },
     "execution_count": 17,
     "metadata": {},
     "output_type": "execute_result"
    }
   ],
   "source": [
    "normal_ordered_form(b1*Dagger(b1)) # we write its normal ordered form"
   ]
  },
  {
   "cell_type": "markdown",
   "metadata": {},
   "source": [
    "$b_1b^{\\dagger}_1b^{\\dagger}_1$"
   ]
  },
  {
   "cell_type": "code",
   "execution_count": 18,
   "metadata": {},
   "outputs": [
    {
     "data": {
      "text/latex": [
       "$\\displaystyle 2 {{b_1}^\\dagger} + {{b_1}^\\dagger}^{2} {b_1}$"
      ],
      "text/plain": [
       "2*Dagger(b_1) + Dagger(b_1)**2*b_1"
      ]
     },
     "execution_count": 18,
     "metadata": {},
     "output_type": "execute_result"
    }
   ],
   "source": [
    "normal_ordered_form(b1*Dagger(b1)*Dagger(b1))"
   ]
  },
  {
   "cell_type": "markdown",
   "metadata": {},
   "source": [
    "$[b_1,b^{\\dagger}_2b_2]=0$"
   ]
  },
  {
   "cell_type": "code",
   "execution_count": 19,
   "metadata": {},
   "outputs": [
    {
     "data": {
      "text/latex": [
       "$\\displaystyle 0$"
      ],
      "text/plain": [
       "0"
      ]
     },
     "execution_count": 19,
     "metadata": {},
     "output_type": "execute_result"
    }
   ],
   "source": [
    "bcom(b1,Dagger(b2)*b2)"
   ]
  },
  {
   "cell_type": "markdown",
   "metadata": {},
   "source": [
    "$[b_1,b^{\\dagger}_1b_2]=b_2$"
   ]
  },
  {
   "cell_type": "code",
   "execution_count": 20,
   "metadata": {},
   "outputs": [
    {
     "data": {
      "text/latex": [
       "$\\displaystyle {b_2}$"
      ],
      "text/plain": [
       "b_2"
      ]
     },
     "execution_count": 20,
     "metadata": {},
     "output_type": "execute_result"
    }
   ],
   "source": [
    "bcom(b1,Dagger(b1)*b2)"
   ]
  },
  {
   "cell_type": "markdown",
   "metadata": {},
   "source": [
    "$[b_1b^{\\dagger}_1,b_2b^{\\dagger}_2]=0$"
   ]
  },
  {
   "cell_type": "code",
   "execution_count": 21,
   "metadata": {},
   "outputs": [
    {
     "data": {
      "text/latex": [
       "$\\displaystyle 0$"
      ],
      "text/plain": [
       "0"
      ]
     },
     "execution_count": 21,
     "metadata": {},
     "output_type": "execute_result"
    }
   ],
   "source": [
    "bcom(b1*Dagger(b1),b2*Dagger(b2))"
   ]
  },
  {
   "cell_type": "markdown",
   "metadata": {},
   "source": [
    "$[b_1b^{\\dagger}_1,b^{\\dagger}_1b_2]=b^{\\dagger}_1b_2$"
   ]
  },
  {
   "cell_type": "code",
   "execution_count": 22,
   "metadata": {},
   "outputs": [
    {
     "data": {
      "text/latex": [
       "$\\displaystyle {{b_1}^\\dagger} {b_2}$"
      ],
      "text/plain": [
       "Dagger(b_1)*b_2"
      ]
     },
     "execution_count": 22,
     "metadata": {},
     "output_type": "execute_result"
    }
   ],
   "source": [
    "bcom(b1*Dagger(b1),Dagger(b1)*b2)"
   ]
  },
  {
   "cell_type": "markdown",
   "metadata": {},
   "source": [
    "$n(n-1)(n-2)=b^{\\dagger 3}_1b_1^3$"
   ]
  },
  {
   "cell_type": "code",
   "execution_count": 23,
   "metadata": {},
   "outputs": [
    {
     "data": {
      "text/latex": [
       "$\\displaystyle {{b_1}^\\dagger}^{3} {b_1}^{3}$"
      ],
      "text/plain": [
       "Dagger(b_1)**3*b_1**3"
      ]
     },
     "execution_count": 23,
     "metadata": {},
     "output_type": "execute_result"
    }
   ],
   "source": [
    "n=Dagger(b1)*b1  # n represents the number operator\n",
    "expr=n*(n-1)*(n-2)\n",
    "normal_ordered_form(expr.expand())"
   ]
  },
  {
   "cell_type": "markdown",
   "metadata": {},
   "source": [
    "$n(n-1)(n-2)(n-3)=b^{\\dagger 4}_1b_1^4$"
   ]
  },
  {
   "cell_type": "code",
   "execution_count": 24,
   "metadata": {},
   "outputs": [
    {
     "data": {
      "text/latex": [
       "$\\displaystyle {{b_1}^\\dagger}^{4} {b_1}^{4}$"
      ],
      "text/plain": [
       "Dagger(b_1)**4*b_1**4"
      ]
     },
     "execution_count": 24,
     "metadata": {},
     "output_type": "execute_result"
    }
   ],
   "source": [
    "n=Dagger(b1)*b1\n",
    "expr=n*(n-1)*(n-2)*(n-3)\n",
    "normal_ordered_form(expr.expand())"
   ]
  }
 ],
 "metadata": {
  "kernelspec": {
   "display_name": "Python 3",
   "language": "python",
   "name": "python3"
  },
  "language_info": {
   "codemirror_mode": {
    "name": "ipython",
    "version": 3
   },
   "file_extension": ".py",
   "mimetype": "text/x-python",
   "name": "python",
   "nbconvert_exporter": "python",
   "pygments_lexer": "ipython3",
   "version": "3.7.4"
  }
 },
 "nbformat": 4,
 "nbformat_minor": 2
}
