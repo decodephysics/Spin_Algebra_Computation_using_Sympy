{
 "cells": [
  {
   "cell_type": "markdown",
   "metadata": {},
   "source": [
    "# 3 Two site Bose-Hubbard Model"
   ]
  },
  {
   "cell_type": "markdown",
   "metadata": {},
   "source": [
    "The Bose–Hubbard model gives a description of the physics of interacting spinless bosons on a lattice. It is closely related to the Hubbard model which originated in solid-state physics as an approximate description of superconducting systems and the motion of electrons between the atoms of a crystalline solid. The model was first introduced by Gersch and Knollman in 1963 in the context of granular superconductors. (The term 'Bose' in its name refers to the fact that the particles in the system are bosonic.) The model rose to prominence in the 1980s after it was found to capture the essence of the superfluid-insulator transition in a way that was much more mathematically tractable than fermionic metal-insulator models.\n",
    "The Bose–Hubbard model can be used to describe physical systems such as bosonic atoms in an optical lattice,as well as certain magnetic insulators. Furthermore, it can also be generalized and applied to Bose–Fermi mixtures, in which case the corresponding Hamiltonian is called the Bose–Fermi–Hubbard Hamiltonian.\n",
    "Source :https://en.wikipedia.org/wiki/Bose%E2%80%93Hubbard_model"
   ]
  },
  {
   "cell_type": "code",
   "execution_count": null,
   "metadata": {},
   "outputs": [],
   "source": [
    "from sympy import *\n",
    "from sympy.physics.quantum import Dagger, Commutator\n",
    "from sympy.physics.quantum.boson import BosonOp\n",
    "from sympy.physics.quantum.operatorordering import normal_ordered_form\n",
    "b1=BosonOp(\"b_1\")\n",
    "b2=BosonOp(\"b_2\")\n",
    "Jx,Jz,w1,w2=symbols(\"J_x J_z w_1 w_2\")\n",
    "H=2*Jx*(Dagger(b1)*b2+Dagger(b2)*b1)+4*Jz*Dagger(b1)*b1*Dagger(b2)*b2+w1*Dagger(b1)*b1+w2*Dagger(b2)*b2"
   ]
  },
  {
   "cell_type": "code",
   "execution_count": 2,
   "metadata": {},
   "outputs": [],
   "source": [
    "def bcom(a,b): # commutator solver function \n",
    "    comm=Commutator(a,b).doit(independent=True).expand()\n",
    "    return normal_ordered_form(comm,independent=True)"
   ]
  },
  {
   "cell_type": "code",
   "execution_count": 3,
   "metadata": {},
   "outputs": [
    {
     "data": {
      "text/latex": [
       "$\\displaystyle 2 J_{x} {b_1} + 4 J_{z} {{b_1}^\\dagger} {b_1} {b_2} + w_{2} {b_2}$"
      ],
      "text/plain": [
       "2*J_x*b_1 + 4*J_z*Dagger(b_1)*b_1*b_2 + w_2*b_2"
      ]
     },
     "execution_count": 3,
     "metadata": {},
     "output_type": "execute_result"
    }
   ],
   "source": [
    "bcom(b2,H)"
   ]
  },
  {
   "cell_type": "code",
   "execution_count": 4,
   "metadata": {},
   "outputs": [
    {
     "data": {
      "text/latex": [
       "$\\displaystyle - 2 J_{x} {{b_1}^\\dagger} - 4 J_{z} {{b_1}^\\dagger} {{b_2}^\\dagger} {b_1} - w_{2} {{b_2}^\\dagger}$"
      ],
      "text/plain": [
       "-2*J_x*Dagger(b_1) - 4*J_z*Dagger(b_1)*Dagger(b_2)*b_1 - w_2*Dagger(b_2)"
      ]
     },
     "execution_count": 4,
     "metadata": {},
     "output_type": "execute_result"
    }
   ],
   "source": [
    "bcom(Dagger(b2),H)"
   ]
  },
  {
   "cell_type": "code",
   "execution_count": 5,
   "metadata": {},
   "outputs": [
    {
     "data": {
      "text/latex": [
       "$\\displaystyle - 2 J_{x} {{b_1}^\\dagger} {b_2} + 2 J_{x} {{b_2}^\\dagger} {b_1}$"
      ],
      "text/plain": [
       "-2*J_x*Dagger(b_1)*b_2 + 2*J_x*Dagger(b_2)*b_1"
      ]
     },
     "execution_count": 5,
     "metadata": {},
     "output_type": "execute_result"
    }
   ],
   "source": [
    "bcom(Dagger(b2)*b2,H)"
   ]
  },
  {
   "cell_type": "code",
   "execution_count": 6,
   "metadata": {},
   "outputs": [
    {
     "data": {
      "text/latex": [
       "$\\displaystyle 2 J_{x} {b_2} + 4 J_{z} {{b_2}^\\dagger} {b_1} {b_2} + w_{1} {b_1}$"
      ],
      "text/plain": [
       "2*J_x*b_2 + 4*J_z*Dagger(b_2)*b_1*b_2 + w_1*b_1"
      ]
     },
     "execution_count": 6,
     "metadata": {},
     "output_type": "execute_result"
    }
   ],
   "source": [
    "bcom(b1,H)"
   ]
  },
  {
   "cell_type": "code",
   "execution_count": 7,
   "metadata": {},
   "outputs": [
    {
     "data": {
      "text/latex": [
       "$\\displaystyle 2 J_{x} {b_1}^{2} + 2 J_{x} {b_2}^{2} + 4 J_{z} {{b_1}^\\dagger} {b_1}^{2} {b_2} + 4 J_{z} {b_1} {b_2} + 4 J_{z} {{b_2}^\\dagger} {b_1} {b_2}^{2} + w_{1} {b_1} {b_2} + w_{2} {b_1} {b_2}$"
      ],
      "text/plain": [
       "2*J_x*b_1**2 + 2*J_x*b_2**2 + 4*J_z*Dagger(b_1)*b_1**2*b_2 + 4*J_z*b_1*b_2 + 4*J_z*Dagger(b_2)*b_1*b_2**2 + w_1*b_1*b_2 + w_2*b_1*b_2"
      ]
     },
     "execution_count": 7,
     "metadata": {},
     "output_type": "execute_result"
    }
   ],
   "source": [
    "bcom(b1*b2,H)"
   ]
  },
  {
   "cell_type": "code",
   "execution_count": 8,
   "metadata": {},
   "outputs": [
    {
     "data": {
      "text/latex": [
       "$\\displaystyle - 2 J_{x} {{b_1}^\\dagger} {b_1} + 2 J_{x} {{b_2}^\\dagger} {b_2} - 4 J_{z} {{b_1}^\\dagger} {{b_2}^\\dagger} {b_1}^{2} + 4 J_{z} {{b_2}^\\dagger}^{2} {b_1} {b_2} + w_{1} {{b_2}^\\dagger} {b_1} - w_{2} {{b_2}^\\dagger} {b_1}$"
      ],
      "text/plain": [
       "-2*J_x*Dagger(b_1)*b_1 + 2*J_x*Dagger(b_2)*b_2 - 4*J_z*Dagger(b_1)*Dagger(b_2)*b_1**2 + 4*J_z*Dagger(b_2)**2*b_1*b_2 + w_1*Dagger(b_2)*b_1 - w_2*Dagger(b_2)*b_1"
      ]
     },
     "execution_count": 8,
     "metadata": {},
     "output_type": "execute_result"
    }
   ],
   "source": [
    "bcom(b1*Dagger(b2),H)"
   ]
  },
  {
   "cell_type": "code",
   "execution_count": 9,
   "metadata": {},
   "outputs": [
    {
     "data": {
      "text/latex": [
       "$\\displaystyle - 2 J_{x} {{b_1}^\\dagger} {b_1} {b_2} + 2 J_{x} {{b_2}^\\dagger} {b_1}^{2} + 2 J_{x} {{b_2}^\\dagger} {b_2}^{2} + 4 J_{z} {{b_2}^\\dagger} {b_1} {b_2} + 4 J_{z} {{b_2}^\\dagger}^{2} {b_1} {b_2}^{2} + w_{1} {{b_2}^\\dagger} {b_1} {b_2}$"
      ],
      "text/plain": [
       "-2*J_x*Dagger(b_1)*b_1*b_2 + 2*J_x*Dagger(b_2)*b_1**2 + 2*J_x*Dagger(b_2)*b_2**2 + 4*J_z*Dagger(b_2)*b_1*b_2 + 4*J_z*Dagger(b_2)**2*b_1*b_2**2 + w_1*Dagger(b_2)*b_1*b_2"
      ]
     },
     "execution_count": 9,
     "metadata": {},
     "output_type": "execute_result"
    }
   ],
   "source": [
    "bcom(b1*Dagger(b2)*b2,H)"
   ]
  },
  {
   "cell_type": "code",
   "execution_count": 10,
   "metadata": {},
   "outputs": [
    {
     "data": {
      "text/latex": [
       "$\\displaystyle - 2 J_{x} {{b_2}^\\dagger} - 4 J_{z} {{b_1}^\\dagger} {{b_2}^\\dagger} {b_2} - w_{1} {{b_1}^\\dagger}$"
      ],
      "text/plain": [
       "-2*J_x*Dagger(b_2) - 4*J_z*Dagger(b_1)*Dagger(b_2)*b_2 - w_1*Dagger(b_1)"
      ]
     },
     "execution_count": 10,
     "metadata": {},
     "output_type": "execute_result"
    }
   ],
   "source": [
    "bcom(Dagger(b1),H)"
   ]
  },
  {
   "cell_type": "code",
   "execution_count": 11,
   "metadata": {},
   "outputs": [
    {
     "data": {
      "text/latex": [
       "$\\displaystyle 2 J_{x} {{b_1}^\\dagger} {b_1} - 2 J_{x} {{b_2}^\\dagger} {b_2} - 4 J_{z} {{b_1}^\\dagger} {{b_2}^\\dagger} {b_2}^{2} + 4 J_{z} {{b_1}^\\dagger}^{2} {b_1} {b_2} - w_{1} {{b_1}^\\dagger} {b_2} + w_{2} {{b_1}^\\dagger} {b_2}$"
      ],
      "text/plain": [
       "2*J_x*Dagger(b_1)*b_1 - 2*J_x*Dagger(b_2)*b_2 - 4*J_z*Dagger(b_1)*Dagger(b_2)*b_2**2 + 4*J_z*Dagger(b_1)**2*b_1*b_2 - w_1*Dagger(b_1)*b_2 + w_2*Dagger(b_1)*b_2"
      ]
     },
     "execution_count": 11,
     "metadata": {},
     "output_type": "execute_result"
    }
   ],
   "source": [
    "bcom(Dagger(b1)*b2,H)"
   ]
  },
  {
   "cell_type": "code",
   "execution_count": 12,
   "metadata": {},
   "outputs": [
    {
     "data": {
      "text/latex": [
       "$\\displaystyle - 2 J_{x} {{b_1}^\\dagger}^{2} - 2 J_{x} {{b_2}^\\dagger}^{2} - 4 J_{z} {{b_1}^\\dagger} {{b_2}^\\dagger} - 4 J_{z} {{b_1}^\\dagger} {{b_2}^\\dagger}^{2} {b_2} - 4 J_{z} {{b_1}^\\dagger}^{2} {{b_2}^\\dagger} {b_1} - w_{1} {{b_1}^\\dagger} {{b_2}^\\dagger} - w_{2} {{b_1}^\\dagger} {{b_2}^\\dagger}$"
      ],
      "text/plain": [
       "-2*J_x*Dagger(b_1)**2 - 2*J_x*Dagger(b_2)**2 - 4*J_z*Dagger(b_1)*Dagger(b_2) - 4*J_z*Dagger(b_1)*Dagger(b_2)**2*b_2 - 4*J_z*Dagger(b_1)**2*Dagger(b_2)*b_1 - w_1*Dagger(b_1)*Dagger(b_2) - w_2*Dagger(b_1)*Dagger(b_2)"
      ]
     },
     "execution_count": 12,
     "metadata": {},
     "output_type": "execute_result"
    }
   ],
   "source": [
    "bcom(Dagger(b1)*Dagger(b2),H)"
   ]
  },
  {
   "cell_type": "code",
   "execution_count": 13,
   "metadata": {},
   "outputs": [
    {
     "data": {
      "text/latex": [
       "$\\displaystyle 2 J_{x} {{b_1}^\\dagger} {{b_2}^\\dagger} {b_1} - 2 J_{x} {{b_1}^\\dagger}^{2} {b_2} - 2 J_{x} {{b_2}^\\dagger}^{2} {b_2} - 4 J_{z} {{b_1}^\\dagger} {{b_2}^\\dagger} {b_2} - 4 J_{z} {{b_1}^\\dagger} {{b_2}^\\dagger}^{2} {b_2}^{2} - w_{1} {{b_1}^\\dagger} {{b_2}^\\dagger} {b_2}$"
      ],
      "text/plain": [
       "2*J_x*Dagger(b_1)*Dagger(b_2)*b_1 - 2*J_x*Dagger(b_1)**2*b_2 - 2*J_x*Dagger(b_2)**2*b_2 - 4*J_z*Dagger(b_1)*Dagger(b_2)*b_2 - 4*J_z*Dagger(b_1)*Dagger(b_2)**2*b_2**2 - w_1*Dagger(b_1)*Dagger(b_2)*b_2"
      ]
     },
     "execution_count": 13,
     "metadata": {},
     "output_type": "execute_result"
    }
   ],
   "source": [
    "bcom(Dagger(b1)*Dagger(b2)*b2,H)"
   ]
  },
  {
   "cell_type": "code",
   "execution_count": 14,
   "metadata": {},
   "outputs": [
    {
     "data": {
      "text/latex": [
       "$\\displaystyle 2 J_{x} {{b_1}^\\dagger} {b_2} - 2 J_{x} {{b_2}^\\dagger} {b_1}$"
      ],
      "text/plain": [
       "2*J_x*Dagger(b_1)*b_2 - 2*J_x*Dagger(b_2)*b_1"
      ]
     },
     "execution_count": 14,
     "metadata": {},
     "output_type": "execute_result"
    }
   ],
   "source": [
    "bcom(Dagger(b1)*b1,H)"
   ]
  },
  {
   "cell_type": "code",
   "execution_count": 15,
   "metadata": {},
   "outputs": [
    {
     "data": {
      "text/latex": [
       "$\\displaystyle 2 J_{x} {{b_1}^\\dagger} {b_1}^{2} + 2 J_{x} {{b_1}^\\dagger} {b_2}^{2} - 2 J_{x} {{b_2}^\\dagger} {b_1} {b_2} + 4 J_{z} {{b_1}^\\dagger} {b_1} {b_2} + 4 J_{z} {{b_1}^\\dagger}^{2} {b_1}^{2} {b_2} + w_{2} {{b_1}^\\dagger} {b_1} {b_2}$"
      ],
      "text/plain": [
       "2*J_x*Dagger(b_1)*b_1**2 + 2*J_x*Dagger(b_1)*b_2**2 - 2*J_x*Dagger(b_2)*b_1*b_2 + 4*J_z*Dagger(b_1)*b_1*b_2 + 4*J_z*Dagger(b_1)**2*b_1**2*b_2 + w_2*Dagger(b_1)*b_1*b_2"
      ]
     },
     "execution_count": 15,
     "metadata": {},
     "output_type": "execute_result"
    }
   ],
   "source": [
    "bcom(Dagger(b1)*b1*b2,H)"
   ]
  },
  {
   "cell_type": "code",
   "execution_count": 16,
   "metadata": {},
   "outputs": [
    {
     "data": {
      "text/latex": [
       "$\\displaystyle 2 J_{x} {{b_1}^\\dagger} {{b_2}^\\dagger} {b_2} - 2 J_{x} {{b_1}^\\dagger}^{2} {b_1} - 2 J_{x} {{b_2}^\\dagger}^{2} {b_1} - 4 J_{z} {{b_1}^\\dagger} {{b_2}^\\dagger} {b_1} - 4 J_{z} {{b_1}^\\dagger}^{2} {{b_2}^\\dagger} {b_1}^{2} - w_{2} {{b_1}^\\dagger} {{b_2}^\\dagger} {b_1}$"
      ],
      "text/plain": [
       "2*J_x*Dagger(b_1)*Dagger(b_2)*b_2 - 2*J_x*Dagger(b_1)**2*b_1 - 2*J_x*Dagger(b_2)**2*b_1 - 4*J_z*Dagger(b_1)*Dagger(b_2)*b_1 - 4*J_z*Dagger(b_1)**2*Dagger(b_2)*b_1**2 - w_2*Dagger(b_1)*Dagger(b_2)*b_1"
      ]
     },
     "execution_count": 16,
     "metadata": {},
     "output_type": "execute_result"
    }
   ],
   "source": [
    "bcom(Dagger(b1)*b1*Dagger(b2),H)"
   ]
  },
  {
   "cell_type": "code",
   "execution_count": 17,
   "metadata": {},
   "outputs": [
    {
     "data": {
      "text/latex": [
       "$\\displaystyle 2 J_{x} {{b_1}^\\dagger} {{b_2}^\\dagger} {b_1}^{2} + 2 J_{x} {{b_1}^\\dagger} {{b_2}^\\dagger} {b_2}^{2} - 2 J_{x} {{b_1}^\\dagger}^{2} {b_1} {b_2} - 2 J_{x} {{b_2}^\\dagger}^{2} {b_1} {b_2}$"
      ],
      "text/plain": [
       "2*J_x*Dagger(b_1)*Dagger(b_2)*b_1**2 + 2*J_x*Dagger(b_1)*Dagger(b_2)*b_2**2 - 2*J_x*Dagger(b_1)**2*b_1*b_2 - 2*J_x*Dagger(b_2)**2*b_1*b_2"
      ]
     },
     "execution_count": 17,
     "metadata": {},
     "output_type": "execute_result"
    }
   ],
   "source": [
    "bcom(Dagger(b1)*b1*Dagger(b2)*b2,H)"
   ]
  }
 ],
 "metadata": {
  "kernelspec": {
   "display_name": "Python 3",
   "language": "python",
   "name": "python3"
  },
  "language_info": {
   "codemirror_mode": {
    "name": "ipython",
    "version": 3
   },
   "file_extension": ".py",
   "mimetype": "text/x-python",
   "name": "python",
   "nbconvert_exporter": "python",
   "pygments_lexer": "ipython3",
   "version": "3.7.4"
  }
 },
 "nbformat": 4,
 "nbformat_minor": 2
}
